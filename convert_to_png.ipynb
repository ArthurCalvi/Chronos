{
 "cells": [
  {
   "cell_type": "code",
   "execution_count": 8,
   "metadata": {},
   "outputs": [],
   "source": [
    "files = [\n",
    "    '_20150102_20231231_Acquitaine_fr-NouvelleAquitaine-Landes_Lat44.29_Lon-1.15_Fire', #above the circle browning + clear cut\n",
    "    '_20150102_20231231_Acquitaine_fr-NouvelleAquitaine_Lat43.74_Lon-1.39_Fire', #left to the circle browning \n",
    "    '_20150102_20231231_Gironde_fr-NouvelleAquitaine-Gironde_Lat44.52_Lon-0.62_Fire', #big fire in the middle\n",
    "    '_20150102_20231231_Gironde_fr-NouvelleAquitaine_Lat44.31_Lon-0.07_Tree-logging', #fire in the middle \n",
    "]"
   ]
  },
  {
   "cell_type": "code",
   "execution_count": 9,
   "metadata": {},
   "outputs": [],
   "source": [
    "import numpy as np\n",
    "def normalize(x):\n",
    "    return (x - np.min(x)) / (np.max(x) - np.min(x))"
   ]
  },
  {
   "cell_type": "code",
   "execution_count": 11,
   "metadata": {},
   "outputs": [
    {
     "name": "stderr",
     "output_type": "stream",
     "text": [
      "100%|██████████| 4/4 [02:35<00:00, 38.80s/it]\n"
     ]
    }
   ],
   "source": [
    "import rasterio \n",
    "import os\n",
    "from tqdm import tqdm\n",
    "\n",
    "dir_ = '/Users/arthurcalvi/Data/disturbances-ex/test_Phlogeo'\n",
    "\n",
    "for file in tqdm(files):\n",
    "    path = os.path.join(dir_, file, 'rgb')\n",
    "    path_dir = os.path.join(dir_, file, 'rgb_png')\n",
    "    os.makedirs(path_dir, exist_ok=True)\n",
    "    for f in os.listdir(path):\n",
    "        if f.endswith('.tif'):\n",
    "            with rasterio.open(os.path.join(path, f)) as src:\n",
    "                profile = src.profile\n",
    "                #update profile driver to PNG\n",
    "                raster = src.read()\n",
    "                raster = normalize(raster) * 255\n",
    "                profile.update(driver='PNG', dtype=rasterio.uint8)\n",
    "                outdir = os.path.join(path_dir, f.split('.')[0] + '.png')\n",
    "                with rasterio.open(outdir, 'w', **profile) as dst:\n",
    "                    dst.write(raster.astype(rasterio.uint8))"
   ]
  }
 ],
 "metadata": {
  "kernelspec": {
   "display_name": "Download",
   "language": "python",
   "name": "python3"
  },
  "language_info": {
   "codemirror_mode": {
    "name": "ipython",
    "version": 3
   },
   "file_extension": ".py",
   "mimetype": "text/x-python",
   "name": "python",
   "nbconvert_exporter": "python",
   "pygments_lexer": "ipython3",
   "version": "3.9.6"
  },
  "orig_nbformat": 4
 },
 "nbformat": 4,
 "nbformat_minor": 2
}
