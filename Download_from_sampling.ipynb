{
 "cells": [
  {
   "cell_type": "code",
   "execution_count": 1,
   "metadata": {},
   "outputs": [
    {
     "name": "stderr",
     "output_type": "stream",
     "text": [
      "/Users/arthurcalvi/Venv/Download/lib/python3.9/site-packages/rasterio/path.py:15: RasterioDeprecationWarning: rasterio.path will be removed in version 1.4.\n",
      "  warnings.warn(\n"
     ]
    }
   ],
   "source": [
    "%load_ext autoreload\n",
    "%autoreload 2\n",
    "from chronos import Chronos\n",
    "\n",
    "utm = 32631\n",
    "chr = Chronos(delta_min=20, cc1=0, cc2=75, buffer=0, nodata=10, crs='EPSG:32631', \n",
    "            alpha = 0.1, show_aoi=False, shadow=True, registration=True,\n",
    "            satellites=['sentinel-2'],\n",
    "            pansharpening=True, sharpening=True, force_reproject=False, \n",
    "            normalization=None, verbose=2, n_jobs=8, prefer='threads')"
   ]
  },
  {
   "cell_type": "code",
   "execution_count": 2,
   "metadata": {},
   "outputs": [
    {
     "data": {
      "text/plain": [
       "5870700"
      ]
     },
     "execution_count": 2,
     "metadata": {},
     "output_type": "execute_result"
    }
   ],
   "source": [
    "import geopandas as gpd\n",
    "import pandas as pd\n",
    "from datetime import datetime\n",
    "import os \n",
    "\n",
    "\n",
    "\n",
    "directory = '/Users/arthurcalvi/Data/results/disturbances/matching_france_v04_EPSG3857.parquet'\n",
    "#Load disturbances, convert to utm coordinates \n",
    "gdf = gpd.read_parquet(directory).to_crs(epsg=utm)\n",
    "\n",
    "#filtering duplicates\n",
    "gdf.drop_duplicates(subset=['index_SS', 'year'], inplace=True)\n",
    "gdf.shape[0]\n"
   ]
  },
  {
   "cell_type": "code",
   "execution_count": 3,
   "metadata": {},
   "outputs": [],
   "source": [
    "gdf = gdf[ (gdf.year >= 2018)&(gdf.year <= 2020) ] \n",
    "classes = ['Fire', 'Biotic-dieback', 'Biotic-mortality']\n",
    "gdf = gdf[ gdf['class'].isin(classes) ]"
   ]
  },
  {
   "cell_type": "code",
   "execution_count": 4,
   "metadata": {},
   "outputs": [],
   "source": [
    "dir_ = '/Users/arthurcalvi/Data/disturbances-ex/france_var'\n",
    "name_dict = 'dict_aoi_var.pkl '\n",
    "\n",
    "#load pkl from path\n",
    "import pickle\n",
    "import os\n",
    "\n",
    "path = os.path.join(dir_, name_dict)\n",
    "with open(path, 'rb') as f:\n",
    "    dict_aoi = pickle.load(f)"
   ]
  },
  {
   "cell_type": "code",
   "execution_count": 5,
   "metadata": {},
   "outputs": [
    {
     "data": {
      "application/vnd.jupyter.widget-view+json": {
       "model_id": "fef2d2cb5bea42259250f201077a1a60",
       "version_major": 2,
       "version_minor": 0
      },
      "text/plain": [
       "  0%|          | 0/3 [00:00<?, ?it/s]"
      ]
     },
     "metadata": {},
     "output_type": "display_data"
    },
    {
     "name": "stdout",
     "output_type": "stream",
     "text": [
      "Nbr of already downloaded aoi: 1\n",
      "downloading at: /Users/arthurcalvi/Data/disturbances-ex/france_var/20150102_20231231_Var, France_fr-ProvenceAlpesCote-dAzur-Var_Lat43.75_Lon6.49_Biotic-dieback\n",
      "satellites used: ['sentinel-2']\n"
     ]
    },
    {
     "name": "stderr",
     "output_type": "stream",
     "text": [
      "[Parallel(n_jobs=8)]: Using backend ThreadingBackend with 8 concurrent workers.\n",
      "[Parallel(n_jobs=8)]: Done   2 out of   2 | elapsed:    2.5s finished\n"
     ]
    },
    {
     "name": "stdout",
     "output_type": "stream",
     "text": [
      "Items found for research 1 with cc=0 : 0\n"
     ]
    },
    {
     "name": "stderr",
     "output_type": "stream",
     "text": [
      "[Parallel(n_jobs=8)]: Using backend ThreadingBackend with 8 concurrent workers.\n",
      "[Parallel(n_jobs=8)]: Done  25 tasks      | elapsed:    5.0s\n",
      "[Parallel(n_jobs=8)]: Done 146 tasks      | elapsed:   17.2s\n",
      "[Parallel(n_jobs=8)]: Done 349 tasks      | elapsed:   37.9s\n",
      "[Parallel(n_jobs=8)]: Done 500 out of 500 | elapsed:   53.5s finished\n",
      "[Parallel(n_jobs=-1)]: Using backend ThreadingBackend with 8 concurrent workers.\n",
      "[Parallel(n_jobs=-1)]: Done   0 out of   0 | elapsed:    0.0s finished\n"
     ]
    },
    {
     "name": "stdout",
     "output_type": "stream",
     "text": [
      "Items accepted during research 2 with cc=25 (on aoi) : 0\n",
      "Items found for combined research:  0\n",
      "Critical Issue with the tile\n"
     ]
    },
    {
     "data": {
      "application/vnd.jupyter.widget-view+json": {
       "model_id": "31fca1ebe0e946949556422e17244c36",
       "version_major": 2,
       "version_minor": 0
      },
      "text/plain": [
       "  0%|          | 0/9 [00:00<?, ?it/s]"
      ]
     },
     "metadata": {},
     "output_type": "display_data"
    },
    {
     "name": "stdout",
     "output_type": "stream",
     "text": [
      "downloading at: /Users/arthurcalvi/Data/disturbances-ex/france_var/20150102_20231231_Var, France_fr-ProvenceAlpesCote-dAzur-Var_Lat43.59_Lon6.51_Fire\n",
      "satellites used: ['sentinel-2']\n"
     ]
    },
    {
     "name": "stderr",
     "output_type": "stream",
     "text": [
      "[Parallel(n_jobs=8)]: Using backend ThreadingBackend with 8 concurrent workers.\n",
      "[Parallel(n_jobs=8)]: Done   2 out of   2 | elapsed:    1.2s finished\n"
     ]
    },
    {
     "name": "stdout",
     "output_type": "stream",
     "text": [
      "Items found for research 1 with cc=0 : 0\n"
     ]
    },
    {
     "name": "stderr",
     "output_type": "stream",
     "text": [
      "[Parallel(n_jobs=8)]: Using backend ThreadingBackend with 8 concurrent workers.\n",
      "[Parallel(n_jobs=8)]: Done  25 tasks      | elapsed:    4.0s\n",
      "[Parallel(n_jobs=8)]: Done 146 tasks      | elapsed:   11.8s\n",
      "[Parallel(n_jobs=8)]: Done 349 tasks      | elapsed:   24.4s\n",
      "[Parallel(n_jobs=8)]: Done 500 out of 500 | elapsed:   35.1s finished\n",
      "[Parallel(n_jobs=-1)]: Using backend ThreadingBackend with 8 concurrent workers.\n",
      "[Parallel(n_jobs=-1)]: Done   0 out of   0 | elapsed:    0.0s finished\n"
     ]
    },
    {
     "name": "stdout",
     "output_type": "stream",
     "text": [
      "Items accepted during research 2 with cc=25 (on aoi) : 0\n",
      "Items found for combined research:  0\n",
      "Critical Issue with the tile\n",
      "downloading at: /Users/arthurcalvi/Data/disturbances-ex/france_var/20150102_20231231_Var, France_fr-ProvenceAlpesCote-dAzur-Var_Lat43.45_Lon6.70_Fire\n",
      "satellites used: ['sentinel-2']\n"
     ]
    },
    {
     "name": "stderr",
     "output_type": "stream",
     "text": [
      "[Parallel(n_jobs=8)]: Using backend ThreadingBackend with 8 concurrent workers.\n",
      "[Parallel(n_jobs=8)]: Done   2 out of   2 | elapsed:    1.2s finished\n"
     ]
    },
    {
     "name": "stdout",
     "output_type": "stream",
     "text": [
      "Items found for research 1 with cc=0 : 1\n"
     ]
    },
    {
     "name": "stderr",
     "output_type": "stream",
     "text": [
      "[Parallel(n_jobs=8)]: Using backend ThreadingBackend with 8 concurrent workers.\n",
      "[Parallel(n_jobs=8)]: Done  25 tasks      | elapsed:    4.2s\n",
      "[Parallel(n_jobs=8)]: Done 146 tasks      | elapsed:   13.7s\n",
      "[Parallel(n_jobs=8)]: Done 349 tasks      | elapsed:   30.9s\n",
      "[Parallel(n_jobs=8)]: Done 499 out of 499 | elapsed:   44.0s finished\n",
      "[Parallel(n_jobs=-1)]: Using backend ThreadingBackend with 8 concurrent workers.\n",
      "[Parallel(n_jobs=-1)]: Done   1 out of   1 | elapsed:    0.0s finished\n"
     ]
    },
    {
     "name": "stdout",
     "output_type": "stream",
     "text": [
      "Items accepted during research 2 with cc=25 (on aoi) : 0\n",
      "Items found for combined research:  1\n",
      "upper bound :  nan\n"
     ]
    },
    {
     "data": {
      "image/png": "[encoded data removed]",
      "text/plain": [
       "<Figure size 1000x1000 with 2 Axes>"
      ]
     },
     "metadata": {},
     "output_type": "display_data"
    },
    {
     "name": "stdout",
     "output_type": "stream",
     "text": [
      "is strongly connected :  True\n",
      "is weakly connected :  True\n"
     ]
    },
    {
     "ename": "KeyError",
     "evalue": "-9",
     "output_type": "error",
     "traceback": [
      "\u001b[0;31m---------------------------------------------------------------------------\u001b[0m",
      "\u001b[0;31mKeyError\u001b[0m                                  Traceback (most recent call last)",
      "Cell \u001b[0;32mIn[5], line 54\u001b[0m\n\u001b[1;32m     52\u001b[0m \u001b[39m# try :\u001b[39;00m\n\u001b[1;32m     53\u001b[0m \u001b[39mprint\u001b[39m(\u001b[39m'\u001b[39m\u001b[39mdownloading at:\u001b[39m\u001b[39m'\u001b[39m, folder)\n\u001b[0;32m---> 54\u001b[0m results \u001b[39m=\u001b[39m \u001b[39mchr\u001b[39;49m\u001b[39m.\u001b[39;49mdownload(folder, current_aoi, start_date, end_date, \\\n\u001b[1;32m     55\u001b[0m         indices\u001b[39m=\u001b[39;49m[\u001b[39m'\u001b[39;49m\u001b[39mrgb\u001b[39;49m\u001b[39m'\u001b[39;49m, \u001b[39m'\u001b[39;49m\u001b[39mndvi\u001b[39;49m\u001b[39m'\u001b[39;49m, \u001b[39m'\u001b[39;49m\u001b[39mevi\u001b[39;49m\u001b[39m'\u001b[39;49m, \u001b[39m'\u001b[39;49m\u001b[39mcrswir\u001b[39;49m\u001b[39m'\u001b[39;49m, \u001b[39m'\u001b[39;49m\u001b[39mnbr\u001b[39;49m\u001b[39m'\u001b[39;49m, \u001b[39m'\u001b[39;49m\u001b[39mqa\u001b[39;49m\u001b[39m'\u001b[39;49m, \u001b[39m'\u001b[39;49m\u001b[39mcloud_mask\u001b[39;49m\u001b[39m'\u001b[39;49m]) \n\u001b[1;32m     56\u001b[0m log \u001b[39m=\u001b[39m \u001b[39m'\u001b[39m\u001b[39mDownload: OK\u001b[39m\u001b[39m'\u001b[39m\n\u001b[1;32m     57\u001b[0m \u001b[39m#write log inside folder\u001b[39;00m\n",
      "File \u001b[0;32m~/Repo/Chronos/chronos.py:237\u001b[0m, in \u001b[0;36mChronos.download\u001b[0;34m(self, folder, geometry, start_date, end_date, indices)\u001b[0m\n\u001b[1;32m    234\u001b[0m     f\u001b[39m.\u001b[39mwrite(\u001b[39m'\u001b[39m\u001b[39m-- Chronos download log --\u001b[39m\u001b[39m\\n\u001b[39;00m\u001b[39m'\u001b[39m)\n\u001b[1;32m    236\u001b[0m \u001b[39m#research\u001b[39;00m\n\u001b[0;32m--> 237\u001b[0m items, geometry, geometry_buffer, old_geometry \u001b[39m=\u001b[39m \u001b[39mself\u001b[39;49m\u001b[39m.\u001b[39;49mresearch(geometry, start_date, end_date)\n\u001b[1;32m    238\u001b[0m \u001b[39mif\u001b[39;00m items \u001b[39mis\u001b[39;00m \u001b[39mNone\u001b[39;00m:\n\u001b[1;32m    239\u001b[0m     \u001b[39mwith\u001b[39;00m \u001b[39mopen\u001b[39m(os\u001b[39m.\u001b[39mpath\u001b[39m.\u001b[39mjoin(log_path), \u001b[39m'\u001b[39m\u001b[39mw\u001b[39m\u001b[39m'\u001b[39m) \u001b[39mas\u001b[39;00m f:\n",
      "File \u001b[0;32m~/Repo/Chronos/chronos.py:202\u001b[0m, in \u001b[0;36mChronos.research\u001b[0;34m(self, geometry, start_date, end_date)\u001b[0m\n\u001b[1;32m    198\u001b[0m df \u001b[39m=\u001b[39m pd\u001b[39m.\u001b[39mDataFrame(data\u001b[39m=\u001b[39mnp\u001b[39m.\u001b[39marray([x,y,cc,nd, res])\u001b[39m.\u001b[39mT, columns\u001b[39m=\u001b[39m[\u001b[39m'\u001b[39m\u001b[39mdate\u001b[39m\u001b[39m'\u001b[39m, \u001b[39m'\u001b[39m\u001b[39msat\u001b[39m\u001b[39m'\u001b[39m, \u001b[39m'\u001b[39m\u001b[39mcc\u001b[39m\u001b[39m'\u001b[39m, \u001b[39m'\u001b[39m\u001b[39mnodata\u001b[39m\u001b[39m'\u001b[39m, \u001b[39m'\u001b[39m\u001b[39mresolution\u001b[39m\u001b[39m'\u001b[39m])\n\u001b[1;32m    200\u001b[0m \u001b[39mif\u001b[39;00m \u001b[39mlen\u001b[39m(x) \u001b[39m>\u001b[39m \u001b[39m0\u001b[39m:\n\u001b[1;32m    201\u001b[0m     \u001b[39m#select items\u001b[39;00m\n\u001b[0;32m--> 202\u001b[0m     df \u001b[39m=\u001b[39m select_dates(df, target_weight\u001b[39m=\u001b[39;49m\u001b[39m30\u001b[39;49m, lower_bound\u001b[39m=\u001b[39;49m\u001b[39m20\u001b[39;49m, alpha\u001b[39m=\u001b[39;49m\u001b[39mself\u001b[39;49m\u001b[39m.\u001b[39;49malpha, verbose\u001b[39m=\u001b[39;49m\u001b[39mself\u001b[39;49m\u001b[39m.\u001b[39;49mverbose, cc_ub\u001b[39m=\u001b[39;49m\u001b[39m10\u001b[39;49m, sr_ub\u001b[39m=\u001b[39;49m\u001b[39m30\u001b[39;49m, nd_ub\u001b[39m=\u001b[39;49m\u001b[39mself\u001b[39;49m\u001b[39m.\u001b[39;49mnodata)\n\u001b[1;32m    203\u001b[0m     \u001b[39mif\u001b[39;00m df \u001b[39mis\u001b[39;00m \u001b[39mnot\u001b[39;00m \u001b[39mNone\u001b[39;00m:\n\u001b[1;32m    204\u001b[0m         items_kept \u001b[39m=\u001b[39m [items1[i] \u001b[39mfor\u001b[39;00m i \u001b[39min\u001b[39;00m df\u001b[39m.\u001b[39mindex\u001b[39m.\u001b[39mto_numpy()[df\u001b[39m.\u001b[39mselected \u001b[39m==\u001b[39m \u001b[39m1\u001b[39m]]\n",
      "File \u001b[0;32m~/Repo/Chronos/utils.py:408\u001b[0m, in \u001b[0;36mselect_dates\u001b[0;34m(df, target_weight, lower_bound, alpha, verbose, cc_ub, sr_ub, nd_ub)\u001b[0m\n\u001b[1;32m    406\u001b[0m \u001b[39mfor\u001b[39;00m j \u001b[39min\u001b[39;00m \u001b[39mrange\u001b[39m(\u001b[39mlen\u001b[39m(timestamps) \u001b[39m-\u001b[39m \u001b[39m10\u001b[39m, \u001b[39mlen\u001b[39m(timestamps)):\n\u001b[1;32m    407\u001b[0m     end_date \u001b[39m=\u001b[39m graph\u001b[39m.\u001b[39mnodes[end_node][\u001b[39m'\u001b[39m\u001b[39mdate\u001b[39m\u001b[39m'\u001b[39m]\n\u001b[0;32m--> 408\u001b[0m     possible_end \u001b[39m=\u001b[39m graph\u001b[39m.\u001b[39;49mnodes[j]\n\u001b[1;32m    409\u001b[0m     possible_end_date \u001b[39m=\u001b[39m possible_end[\u001b[39m'\u001b[39m\u001b[39mdate\u001b[39m\u001b[39m'\u001b[39m]\n\u001b[1;32m    410\u001b[0m     time_diff_end \u001b[39m=\u001b[39m \u001b[39mabs\u001b[39m(possible_end_date \u001b[39m-\u001b[39m end_date)\n",
      "File \u001b[0;32m~/Venv/Download/lib/python3.9/site-packages/networkx/classes/reportviews.py:194\u001b[0m, in \u001b[0;36mNodeView.__getitem__\u001b[0;34m(self, n)\u001b[0m\n\u001b[1;32m    189\u001b[0m \u001b[39mif\u001b[39;00m \u001b[39misinstance\u001b[39m(n, \u001b[39mslice\u001b[39m):\n\u001b[1;32m    190\u001b[0m     \u001b[39mraise\u001b[39;00m nx\u001b[39m.\u001b[39mNetworkXError(\n\u001b[1;32m    191\u001b[0m         \u001b[39mf\u001b[39m\u001b[39m\"\u001b[39m\u001b[39m{\u001b[39;00m\u001b[39mtype\u001b[39m(\u001b[39mself\u001b[39m)\u001b[39m.\u001b[39m\u001b[39m__name__\u001b[39m\u001b[39m}\u001b[39;00m\u001b[39m does not support slicing, \u001b[39m\u001b[39m\"\u001b[39m\n\u001b[1;32m    192\u001b[0m         \u001b[39mf\u001b[39m\u001b[39m\"\u001b[39m\u001b[39mtry list(G.nodes)[\u001b[39m\u001b[39m{\u001b[39;00mn\u001b[39m.\u001b[39mstart\u001b[39m}\u001b[39;00m\u001b[39m:\u001b[39m\u001b[39m{\u001b[39;00mn\u001b[39m.\u001b[39mstop\u001b[39m}\u001b[39;00m\u001b[39m:\u001b[39m\u001b[39m{\u001b[39;00mn\u001b[39m.\u001b[39mstep\u001b[39m}\u001b[39;00m\u001b[39m]\u001b[39m\u001b[39m\"\u001b[39m\n\u001b[1;32m    193\u001b[0m     )\n\u001b[0;32m--> 194\u001b[0m \u001b[39mreturn\u001b[39;00m \u001b[39mself\u001b[39;49m\u001b[39m.\u001b[39;49m_nodes[n]\n",
      "\u001b[0;31mKeyError\u001b[0m: -9"
     ]
    }
   ],
   "source": [
    "from datetime import timedelta, timezone\n",
    "from utils2 import localisation\n",
    "from rasterio.warp import transform_geom\n",
    "\n",
    "#import tqdm for notebooks\n",
    "from tqdm.notebook import tqdm\n",
    "\n",
    "count_download = 0\n",
    "delta = timedelta(days=3*365)\n",
    "first = True\n",
    "\n",
    "for region in dict_aoi.keys():\n",
    "\n",
    "    for cause in dict_aoi[region].keys():\n",
    "\n",
    "        for current_aoi in tqdm(dict_aoi[region][cause]):\n",
    "\n",
    "            \n",
    "            gdf_neighbors = gdf.clip(current_aoi)\n",
    "            \n",
    "\n",
    "            #downlaod data\n",
    "            download = True\n",
    "            start_date = datetime(gdf_neighbors.year.min(), 1, 1, 10, 10, 10, tzinfo=timezone.utc) - delta\n",
    "            end_date = datetime(gdf_neighbors.year.max(), 12, 31, 10, 10, 10, tzinfo=timezone.utc) + delta\n",
    "\n",
    "            #loc\n",
    "            #transform current aoi to epsg:4326 with rasterio.warp.transform_geom\n",
    "            current_aoi_4326 = transform_geom('EPSG:{}'.format(utm), 'EPSG:4326', current_aoi.__geo_interface__)\n",
    "            name, Latitude, Longitude = localisation(current_aoi_4326)\n",
    "            current_aoi = gpd.GeoDataFrame({'geometry': [current_aoi]}, crs='epsg:{}'.format(utm)).geometry.iloc[0]\n",
    "\n",
    "            \n",
    "\n",
    "            name_folder = '_'.join([start_date.strftime('%Y%m%d'), end_date.strftime('%Y%m%d'), region, name, f'Lat{float(Latitude) :.2f}', f'Lon{float(Longitude) :.2f}', str(cause)])\n",
    "            folder = os.path.join(dir_, name_folder)\n",
    "\n",
    "            #read if there is a log.txt\n",
    "            if os.path.isfile(os.path.join(folder, 'download.txt')):\n",
    "                with open(os.path.join(folder, 'download.txt'), 'r') as f:\n",
    "                    log = f.read()\n",
    "\n",
    "                #if there is a log.txt and it is OK, pass\n",
    "                if log == 'Download: OK':\n",
    "                    download = False\n",
    "                    count_download += 1\n",
    "\n",
    "            if download :\n",
    "                if first:\n",
    "                    print('Nbr of already downloaded aoi:', count_download)\n",
    "\n",
    "                # try :\n",
    "                print('downloading at:', folder)\n",
    "                results = chr.download(folder, current_aoi, start_date, end_date, \\\n",
    "                        indices=['rgb', 'ndvi', 'evi', 'crswir', 'nbr', 'qa', 'cloud_mask']) \n",
    "                log = 'Download: OK'\n",
    "                #write log inside folder\n",
    "                with open(os.path.join(folder, 'download.txt'), 'w') as f:\n",
    "                    f.write(log)\n",
    "\n",
    "\n",
    "                #write gdf_neighbors in parquet file\n",
    "                gdf_neighbors.to_parquet(os.path.join(folder, 'disturbance.parquet'))\n",
    "\n",
    "\n",
    "                # except : \n",
    "                #     shutil.rmtree(folder)\n",
    "                first = False"
   ]
  },
  {
   "cell_type": "code",
   "execution_count": 28,
   "metadata": {},
   "outputs": [
    {
     "data": {
      "application/vnd.jupyter.widget-view+json": {
       "model_id": "12afe7e7ea204b699d9a644fd456ff63",
       "version_major": 2,
       "version_minor": 0
      },
      "text/plain": [
       "  0%|          | 0/8 [00:00<?, ?it/s]"
      ]
     },
     "metadata": {},
     "output_type": "display_data"
    }
   ],
   "source": [
    "dict_cause = {\n",
    "    'biotic-mortality': 1,\n",
    "    'biotic-dieback': 2, \n",
    "    'fire': 3,\n",
    "    'storm': 4,\n",
    "    'drought': 5,\n",
    "    'tree-logging': 6,\n",
    "}\n",
    "\n",
    "import rasterio \n",
    "from rasterio.features import rasterize\n",
    "\n",
    "for folder in tqdm(os.listdir(dir_)):\n",
    "\n",
    "    if os.path.isdir(os.path.join(dir_, folder)):\n",
    "\n",
    "        path = os.path.join(dir_, folder)\n",
    "\n",
    "        #read disturbance.parquet\n",
    "        gdf = gpd.read_parquet(os.path.join(path, 'disturbance.parquet'))\n",
    "\n",
    "        #read one the first raster inside the rgb folder\n",
    "        rgb = os.listdir(os.path.join(path, 'rgb'))[0]\n",
    "        rgb = os.path.join(path, 'rgb', rgb)\n",
    "        #load raster\n",
    "        rgb = rasterio.open(rgb)\n",
    "\n",
    "        #change crs of gdf to rgb.crs\n",
    "        gdf = gdf.to_crs(rgb.crs)\n",
    "\n",
    "        #Rasterize geometry inside gdf and burn it inside a raster.\n",
    "        #The raster is the same as rgb but the value depend on the cause of disturbance gdf['cause']\n",
    "\n",
    "        #create a raster with the same shape as rgb\n",
    "        gdf['class'] = gdf['class'].apply(lambda x: dict_cause[x.lower()])\n",
    "\n",
    "        #rasterize gdf\n",
    "        shapes = ((geom, value) for geom, value in zip(gdf.geometry, gdf['class']))\n",
    "        rasterized = rasterize(shapes, out_shape=(rgb.height, rgb.width), transform=rgb.transform, fill=0, all_touched=True, dtype='uint8')\n",
    "\n",
    "        #write rasterized inside a raster named disturbance.tif\n",
    "        ##change rgb.meta['count'] to 1\n",
    "        rgb.meta['count'] = 1\n",
    "        rgb.meta['dtype'] = 'uint8'\n",
    "        with rasterio.open(os.path.join(path, 'disturbance.tif'), 'w', **rgb.meta) as dst:\n",
    "            dst.write(rasterized, 1)\n",
    "\n",
    "\n",
    "    \n",
    "\n"
   ]
  }
 ],
 "metadata": {
  "kernelspec": {
   "display_name": "Download",
   "language": "python",
   "name": "python3"
  },
  "language_info": {
   "codemirror_mode": {
    "name": "ipython",
    "version": 3
   },
   "file_extension": ".py",
   "mimetype": "text/x-python",
   "name": "python",
   "nbconvert_exporter": "python",
   "pygments_lexer": "ipython3",
   "version": "3.9.6"
  },
  "orig_nbformat": 4
 },
 "nbformat": 4,
 "nbformat_minor": 2
}
