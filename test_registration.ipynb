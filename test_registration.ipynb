{
 "cells": [
  {
   "cell_type": "code",
   "execution_count": 1,
   "metadata": {},
   "outputs": [
    {
     "name": "stderr",
     "output_type": "stream",
     "text": [
      "/Users/arthurcalvi/Venv/Download/lib/python3.9/site-packages/rasterio/path.py:15: RasterioDeprecationWarning: rasterio.path will be removed in version 1.4.\n",
      "  warnings.warn(\n"
     ]
    }
   ],
   "source": [
    "%load_ext autoreload\n",
    "%autoreload 2\n",
    "from chronos import Chronos\n",
    "\n",
    "chr = Chronos(delta_min=20, cc1=0, cc2=75, buffer=3000, nodata=10, \n",
    "            alpha = 0.1, show_aoi=False, shadow=True, registration=True,\n",
    "            pansharpening=True, sharpening=True, force_reproject=False, \n",
    "            normalization=None, verbose=2, n_jobs=8, prefer='threads')"
   ]
  },
  {
   "cell_type": "code",
   "execution_count": null,
   "metadata": {},
   "outputs": [],
   "source": []
  },
  {
   "cell_type": "code",
   "execution_count": null,
   "metadata": {},
   "outputs": [],
   "source": [
    "folder = '/Users/arthurcalvi/Data/disturbances-ex/france/disturbance1_transfo-pan'\n",
    "chr.get_registration(folder, keep_only_common=False, remove_old=False)\n",
    "\n"
   ]
  },
  {
   "attachments": {},
   "cell_type": "markdown",
   "metadata": {},
   "source": [
    "# Test pipeline\n",
    "\n"
   ]
  },
  {
   "cell_type": "code",
   "execution_count": 5,
   "metadata": {},
   "outputs": [],
   "source": [
    "import geopandas as gpd\n",
    "import pandas as pd\n",
    "from datetime import datetime\n",
    "import os \n",
    "\n",
    "directory = '/Users/arthurcalvi/Data/results/disturbances/matching_france_v04_EPSG3857.parquet'\n",
    "gdf = gpd.read_parquet(directory)"
   ]
  },
  {
   "cell_type": "code",
   "execution_count": 6,
   "metadata": {},
   "outputs": [
    {
     "data": {
      "text/html": [
       "<div>\n",
       "<style scoped>\n",
       "    .dataframe tbody tr th:only-of-type {\n",
       "        vertical-align: middle;\n",
       "    }\n",
       "\n",
       "    .dataframe tbody tr th {\n",
       "        vertical-align: top;\n",
       "    }\n",
       "\n",
       "    .dataframe thead th {\n",
       "        text-align: right;\n",
       "    }\n",
       "</style>\n",
       "<table border=\"1\" class=\"dataframe\">\n",
       "  <thead>\n",
       "    <tr style=\"text-align: right;\">\n",
       "      <th></th>\n",
       "      <th>index_SS</th>\n",
       "      <th>year</th>\n",
       "      <th>geometry</th>\n",
       "      <th>class_SS</th>\n",
       "      <th>index_DFDE</th>\n",
       "      <th>start_date_DFDE</th>\n",
       "      <th>end_date_DFDE</th>\n",
       "      <th>name</th>\n",
       "      <th>class_DFDE</th>\n",
       "      <th>index_FI</th>\n",
       "      <th>class_FI</th>\n",
       "      <th>start_date_FI</th>\n",
       "      <th>end_date_FI</th>\n",
       "      <th>sjoin_distance</th>\n",
       "      <th>overlap_DFDE_FI</th>\n",
       "      <th>area_DFDE</th>\n",
       "      <th>class</th>\n",
       "      <th>probability</th>\n",
       "      <th>area</th>\n",
       "    </tr>\n",
       "  </thead>\n",
       "  <tbody>\n",
       "    <tr>\n",
       "      <th>16740568</th>\n",
       "      <td>5693533</td>\n",
       "      <td>2016</td>\n",
       "      <td>POLYGON ((390182.593 6193984.736, 390186.479 6...</td>\n",
       "      <td>Storm</td>\n",
       "      <td>299.0</td>\n",
       "      <td>2013-01-01</td>\n",
       "      <td>2013-12-28</td>\n",
       "      <td>Île-de-France</td>\n",
       "      <td>Storm,Biotic</td>\n",
       "      <td>128241.0</td>\n",
       "      <td>Storm</td>\n",
       "      <td>2013-12-27 18:00:00</td>\n",
       "      <td>2018-12-28</td>\n",
       "      <td>4199.462543</td>\n",
       "      <td>True</td>\n",
       "      <td>31971.101507</td>\n",
       "      <td>Storm</td>\n",
       "      <td>0.213838</td>\n",
       "      <td>20498.564331</td>\n",
       "    </tr>\n",
       "    <tr>\n",
       "      <th>16739138</th>\n",
       "      <td>5692471</td>\n",
       "      <td>2016</td>\n",
       "      <td>POLYGON ((198151.562 6229877.192, 198156.509 6...</td>\n",
       "      <td>Storm</td>\n",
       "      <td>299.0</td>\n",
       "      <td>2013-01-01</td>\n",
       "      <td>2013-12-28</td>\n",
       "      <td>Île-de-France</td>\n",
       "      <td>Storm,Biotic</td>\n",
       "      <td>79606.0</td>\n",
       "      <td>Storm</td>\n",
       "      <td>2013-12-27 18:00:00</td>\n",
       "      <td>2018-12-28</td>\n",
       "      <td>3820.443331</td>\n",
       "      <td>True</td>\n",
       "      <td>31971.101507</td>\n",
       "      <td>Storm</td>\n",
       "      <td>0.213838</td>\n",
       "      <td>2067.120126</td>\n",
       "    </tr>\n",
       "    <tr>\n",
       "      <th>16740648</th>\n",
       "      <td>5693546</td>\n",
       "      <td>2016</td>\n",
       "      <td>POLYGON ((356133.519 6288406.696, 356137.658 6...</td>\n",
       "      <td>Storm</td>\n",
       "      <td>304.0</td>\n",
       "      <td>2016-01-01</td>\n",
       "      <td>2016-12-28</td>\n",
       "      <td>Île-de-France</td>\n",
       "      <td>Biotic</td>\n",
       "      <td>108400.0</td>\n",
       "      <td>Biotic-dieback</td>\n",
       "      <td>2016-12-27 18:00:00</td>\n",
       "      <td>2021-12-28</td>\n",
       "      <td>5051.479915</td>\n",
       "      <td>True</td>\n",
       "      <td>31971.101507</td>\n",
       "      <td>Storm</td>\n",
       "      <td>0.176440</td>\n",
       "      <td>10478.589327</td>\n",
       "    </tr>\n",
       "    <tr>\n",
       "      <th>16772872</th>\n",
       "      <td>5722317</td>\n",
       "      <td>2019</td>\n",
       "      <td>POLYGON ((316738.735 6224764.791, 316747.343 6...</td>\n",
       "      <td>Storm</td>\n",
       "      <td>304.0</td>\n",
       "      <td>2016-01-01</td>\n",
       "      <td>2016-12-28</td>\n",
       "      <td>Île-de-France</td>\n",
       "      <td>Biotic</td>\n",
       "      <td>144337.0</td>\n",
       "      <td>Tree-logging</td>\n",
       "      <td>2016-12-27 18:00:00</td>\n",
       "      <td>2021-12-28</td>\n",
       "      <td>7986.833857</td>\n",
       "      <td>True</td>\n",
       "      <td>31971.101507</td>\n",
       "      <td>Storm</td>\n",
       "      <td>0.176440</td>\n",
       "      <td>132134.416530</td>\n",
       "    </tr>\n",
       "    <tr>\n",
       "      <th>16751272</th>\n",
       "      <td>5702967</td>\n",
       "      <td>2017</td>\n",
       "      <td>POLYGON ((356116.934 6287576.877, 356121.073 6...</td>\n",
       "      <td>Storm</td>\n",
       "      <td>304.0</td>\n",
       "      <td>2016-01-01</td>\n",
       "      <td>2016-12-28</td>\n",
       "      <td>Île-de-France</td>\n",
       "      <td>Biotic</td>\n",
       "      <td>108400.0</td>\n",
       "      <td>Biotic-dieback</td>\n",
       "      <td>2016-12-27 18:00:00</td>\n",
       "      <td>2021-12-28</td>\n",
       "      <td>4866.521376</td>\n",
       "      <td>True</td>\n",
       "      <td>31971.101507</td>\n",
       "      <td>Storm</td>\n",
       "      <td>0.176440</td>\n",
       "      <td>8381.425424</td>\n",
       "    </tr>\n",
       "    <tr>\n",
       "      <th>16750642</th>\n",
       "      <td>5702611</td>\n",
       "      <td>2017</td>\n",
       "      <td>POLYGON ((294189.871 6167644.943, 294194.251 6...</td>\n",
       "      <td>Storm</td>\n",
       "      <td>304.0</td>\n",
       "      <td>2016-01-01</td>\n",
       "      <td>2016-12-28</td>\n",
       "      <td>Île-de-France</td>\n",
       "      <td>Biotic</td>\n",
       "      <td>116026.0</td>\n",
       "      <td>Biotic-dieback</td>\n",
       "      <td>2016-12-27 18:00:00</td>\n",
       "      <td>2021-12-28</td>\n",
       "      <td>7358.766042</td>\n",
       "      <td>True</td>\n",
       "      <td>31971.101507</td>\n",
       "      <td>Storm</td>\n",
       "      <td>0.176440</td>\n",
       "      <td>2037.281356</td>\n",
       "    </tr>\n",
       "    <tr>\n",
       "      <th>16740642</th>\n",
       "      <td>5693544</td>\n",
       "      <td>2016</td>\n",
       "      <td>POLYGON ((357593.812 6282929.914, 357548.299 6...</td>\n",
       "      <td>Storm</td>\n",
       "      <td>304.0</td>\n",
       "      <td>2016-01-01</td>\n",
       "      <td>2016-12-28</td>\n",
       "      <td>Île-de-France</td>\n",
       "      <td>Biotic</td>\n",
       "      <td>108400.0</td>\n",
       "      <td>Biotic-dieback</td>\n",
       "      <td>2016-12-27 18:00:00</td>\n",
       "      <td>2021-12-28</td>\n",
       "      <td>4757.523361</td>\n",
       "      <td>True</td>\n",
       "      <td>31971.101507</td>\n",
       "      <td>Storm</td>\n",
       "      <td>0.176440</td>\n",
       "      <td>58605.765931</td>\n",
       "    </tr>\n",
       "    <tr>\n",
       "      <th>16762141</th>\n",
       "      <td>5712301</td>\n",
       "      <td>2018</td>\n",
       "      <td>POLYGON ((299155.198 6172047.422, 299200.093 6...</td>\n",
       "      <td>Storm</td>\n",
       "      <td>304.0</td>\n",
       "      <td>2016-01-01</td>\n",
       "      <td>2016-12-28</td>\n",
       "      <td>Île-de-France</td>\n",
       "      <td>Biotic</td>\n",
       "      <td>116026.0</td>\n",
       "      <td>Biotic-dieback</td>\n",
       "      <td>2016-12-27 18:00:00</td>\n",
       "      <td>2021-12-28</td>\n",
       "      <td>3727.448634</td>\n",
       "      <td>True</td>\n",
       "      <td>31971.101507</td>\n",
       "      <td>Storm</td>\n",
       "      <td>0.176440</td>\n",
       "      <td>2039.374487</td>\n",
       "    </tr>\n",
       "    <tr>\n",
       "      <th>16762509</th>\n",
       "      <td>5712548</td>\n",
       "      <td>2018</td>\n",
       "      <td>POLYGON ((369801.390 6267466.855, 369846.825 6...</td>\n",
       "      <td>Storm</td>\n",
       "      <td>304.0</td>\n",
       "      <td>2016-01-01</td>\n",
       "      <td>2016-12-28</td>\n",
       "      <td>Île-de-France</td>\n",
       "      <td>Biotic</td>\n",
       "      <td>143305.0</td>\n",
       "      <td>Tree-logging</td>\n",
       "      <td>2016-12-27 18:00:00</td>\n",
       "      <td>2021-12-28</td>\n",
       "      <td>2810.739578</td>\n",
       "      <td>True</td>\n",
       "      <td>31971.101507</td>\n",
       "      <td>Storm</td>\n",
       "      <td>0.176440</td>\n",
       "      <td>10427.195352</td>\n",
       "    </tr>\n",
       "    <tr>\n",
       "      <th>16740618</th>\n",
       "      <td>5693540</td>\n",
       "      <td>2016</td>\n",
       "      <td>POLYGON ((374522.239 6260692.699, 374526.257 6...</td>\n",
       "      <td>Storm</td>\n",
       "      <td>304.0</td>\n",
       "      <td>2016-01-01</td>\n",
       "      <td>2016-12-28</td>\n",
       "      <td>Île-de-France</td>\n",
       "      <td>Biotic</td>\n",
       "      <td>143305.0</td>\n",
       "      <td>Tree-logging</td>\n",
       "      <td>2016-12-27 18:00:00</td>\n",
       "      <td>2021-12-28</td>\n",
       "      <td>5316.924132</td>\n",
       "      <td>True</td>\n",
       "      <td>31971.101507</td>\n",
       "      <td>Storm</td>\n",
       "      <td>0.176440</td>\n",
       "      <td>10410.566432</td>\n",
       "    </tr>\n",
       "    <tr>\n",
       "      <th>1081815</th>\n",
       "      <td>435827</td>\n",
       "      <td>2017</td>\n",
       "      <td>POLYGON ((291757.711 6180486.908, 291937.458 6...</td>\n",
       "      <td>Other,Drought,Biotic,Tree-logging</td>\n",
       "      <td>306.0</td>\n",
       "      <td>2018-01-01</td>\n",
       "      <td>2018-12-28</td>\n",
       "      <td>Île-de-France</td>\n",
       "      <td>Biotic</td>\n",
       "      <td>116026.0</td>\n",
       "      <td>Biotic-dieback</td>\n",
       "      <td>2016-12-27 18:00:00</td>\n",
       "      <td>2021-12-28</td>\n",
       "      <td>7088.635924</td>\n",
       "      <td>True</td>\n",
       "      <td>31971.101507</td>\n",
       "      <td>Biotic-dieback</td>\n",
       "      <td>0.127158</td>\n",
       "      <td>335105.278656</td>\n",
       "    </tr>\n",
       "    <tr>\n",
       "      <th>1349343</th>\n",
       "      <td>670878</td>\n",
       "      <td>2019</td>\n",
       "      <td>POLYGON ((289746.356 6173693.093, 289836.155 6...</td>\n",
       "      <td>Other,Drought,Biotic,Tree-logging</td>\n",
       "      <td>304.0</td>\n",
       "      <td>2016-01-01</td>\n",
       "      <td>2016-12-28</td>\n",
       "      <td>Île-de-France</td>\n",
       "      <td>Biotic</td>\n",
       "      <td>116026.0</td>\n",
       "      <td>Biotic-dieback</td>\n",
       "      <td>2016-12-27 18:00:00</td>\n",
       "      <td>2021-12-28</td>\n",
       "      <td>4778.326570</td>\n",
       "      <td>True</td>\n",
       "      <td>31971.101507</td>\n",
       "      <td>Biotic-dieback</td>\n",
       "      <td>0.118951</td>\n",
       "      <td>938382.133875</td>\n",
       "    </tr>\n",
       "    <tr>\n",
       "      <th>14012449</th>\n",
       "      <td>4812670</td>\n",
       "      <td>2020</td>\n",
       "      <td>POLYGON ((321488.403 6187564.806, 321492.653 6...</td>\n",
       "      <td>Other,Drought,Biotic,Tree-logging</td>\n",
       "      <td>306.0</td>\n",
       "      <td>2018-01-01</td>\n",
       "      <td>2018-12-28</td>\n",
       "      <td>Île-de-France</td>\n",
       "      <td>Biotic</td>\n",
       "      <td>92476.0</td>\n",
       "      <td>Biotic-dieback</td>\n",
       "      <td>2014-12-27 18:00:00</td>\n",
       "      <td>2019-12-28</td>\n",
       "      <td>874.065137</td>\n",
       "      <td>True</td>\n",
       "      <td>31971.101507</td>\n",
       "      <td>Biotic-dieback</td>\n",
       "      <td>0.114033</td>\n",
       "      <td>472770.103676</td>\n",
       "    </tr>\n",
       "    <tr>\n",
       "      <th>1477919</th>\n",
       "      <td>791699</td>\n",
       "      <td>2020</td>\n",
       "      <td>POLYGON ((289041.450 6176257.759, 289086.362 6...</td>\n",
       "      <td>Other,Drought,Biotic,Tree-logging</td>\n",
       "      <td>306.0</td>\n",
       "      <td>2018-01-01</td>\n",
       "      <td>2018-12-28</td>\n",
       "      <td>Île-de-France</td>\n",
       "      <td>Biotic</td>\n",
       "      <td>116026.0</td>\n",
       "      <td>Biotic-dieback</td>\n",
       "      <td>2016-12-27 18:00:00</td>\n",
       "      <td>2021-12-28</td>\n",
       "      <td>6198.864110</td>\n",
       "      <td>True</td>\n",
       "      <td>31971.101507</td>\n",
       "      <td>Biotic-dieback</td>\n",
       "      <td>0.113923</td>\n",
       "      <td>698107.460368</td>\n",
       "    </tr>\n",
       "    <tr>\n",
       "      <th>16772904</th>\n",
       "      <td>5722325</td>\n",
       "      <td>2019</td>\n",
       "      <td>POLYGON ((314826.035 6245806.439, 314817.374 6...</td>\n",
       "      <td>Storm</td>\n",
       "      <td>304.0</td>\n",
       "      <td>2016-01-01</td>\n",
       "      <td>2016-12-28</td>\n",
       "      <td>Île-de-France</td>\n",
       "      <td>Biotic</td>\n",
       "      <td>139166.0</td>\n",
       "      <td>Storm</td>\n",
       "      <td>2015-12-28 18:00:00</td>\n",
       "      <td>2020-12-28</td>\n",
       "      <td>1876.037983</td>\n",
       "      <td>True</td>\n",
       "      <td>31971.101507</td>\n",
       "      <td>Storm</td>\n",
       "      <td>0.106409</td>\n",
       "      <td>321587.759866</td>\n",
       "    </tr>\n",
       "    <tr>\n",
       "      <th>1354229</th>\n",
       "      <td>674197</td>\n",
       "      <td>2019</td>\n",
       "      <td>POLYGON ((314832.354 6246219.339, 314877.652 6...</td>\n",
       "      <td>Other,Drought,Biotic,Tree-logging</td>\n",
       "      <td>304.0</td>\n",
       "      <td>2016-01-01</td>\n",
       "      <td>2016-12-28</td>\n",
       "      <td>Île-de-France</td>\n",
       "      <td>Biotic</td>\n",
       "      <td>139166.0</td>\n",
       "      <td>Storm</td>\n",
       "      <td>2015-12-28 18:00:00</td>\n",
       "      <td>2020-12-28</td>\n",
       "      <td>1876.037983</td>\n",
       "      <td>True</td>\n",
       "      <td>31971.101507</td>\n",
       "      <td>Biotic-dieback</td>\n",
       "      <td>0.101443</td>\n",
       "      <td>321587.759866</td>\n",
       "    </tr>\n",
       "    <tr>\n",
       "      <th>1482763</th>\n",
       "      <td>795281</td>\n",
       "      <td>2020</td>\n",
       "      <td>POLYGON ((321492.653 6187519.721, 321582.626 6...</td>\n",
       "      <td>Other,Drought,Biotic,Tree-logging</td>\n",
       "      <td>305.0</td>\n",
       "      <td>2017-01-01</td>\n",
       "      <td>2017-12-28</td>\n",
       "      <td>Île-de-France</td>\n",
       "      <td>Biotic</td>\n",
       "      <td>92476.0</td>\n",
       "      <td>Biotic-dieback</td>\n",
       "      <td>2014-12-27 18:00:00</td>\n",
       "      <td>2019-12-28</td>\n",
       "      <td>874.065137</td>\n",
       "      <td>True</td>\n",
       "      <td>31971.101507</td>\n",
       "      <td>Biotic-dieback</td>\n",
       "      <td>0.081197</td>\n",
       "      <td>472770.103676</td>\n",
       "    </tr>\n",
       "    <tr>\n",
       "      <th>13961372</th>\n",
       "      <td>4764007</td>\n",
       "      <td>2019</td>\n",
       "      <td>POLYGON ((314862.669 6245901.643, 314832.354 6...</td>\n",
       "      <td>Other,Drought,Biotic,Tree-logging</td>\n",
       "      <td>307.0</td>\n",
       "      <td>2019-01-01</td>\n",
       "      <td>2019-12-28</td>\n",
       "      <td>Île-de-France</td>\n",
       "      <td>Storm,Biotic,Fire</td>\n",
       "      <td>139166.0</td>\n",
       "      <td>Storm</td>\n",
       "      <td>2015-12-28 18:00:00</td>\n",
       "      <td>2020-12-28</td>\n",
       "      <td>1876.037983</td>\n",
       "      <td>True</td>\n",
       "      <td>31971.101507</td>\n",
       "      <td>Biotic-dieback</td>\n",
       "      <td>0.053344</td>\n",
       "      <td>321587.759866</td>\n",
       "    </tr>\n",
       "    <tr>\n",
       "      <th>13960203</th>\n",
       "      <td>4763241</td>\n",
       "      <td>2019</td>\n",
       "      <td>POLYGON ((289697.048 6173733.556, 289741.948 6...</td>\n",
       "      <td>Other,Drought,Biotic,Tree-logging</td>\n",
       "      <td>307.0</td>\n",
       "      <td>2019-01-01</td>\n",
       "      <td>2019-12-28</td>\n",
       "      <td>Île-de-France</td>\n",
       "      <td>Storm,Biotic,Fire</td>\n",
       "      <td>116026.0</td>\n",
       "      <td>Biotic-dieback</td>\n",
       "      <td>2016-12-27 18:00:00</td>\n",
       "      <td>2021-12-28</td>\n",
       "      <td>4778.326570</td>\n",
       "      <td>True</td>\n",
       "      <td>31971.101507</td>\n",
       "      <td>Biotic-dieback</td>\n",
       "      <td>0.045959</td>\n",
       "      <td>938382.133875</td>\n",
       "    </tr>\n",
       "    <tr>\n",
       "      <th>14010506</th>\n",
       "      <td>4811197</td>\n",
       "      <td>2020</td>\n",
       "      <td>POLYGON ((289045.864 6176212.753, 289041.450 6...</td>\n",
       "      <td>Other,Drought,Biotic,Tree-logging</td>\n",
       "      <td>307.0</td>\n",
       "      <td>2019-01-01</td>\n",
       "      <td>2019-12-28</td>\n",
       "      <td>Île-de-France</td>\n",
       "      <td>Storm,Biotic,Fire</td>\n",
       "      <td>116026.0</td>\n",
       "      <td>Biotic-dieback</td>\n",
       "      <td>2016-12-27 18:00:00</td>\n",
       "      <td>2021-12-28</td>\n",
       "      <td>6198.864110</td>\n",
       "      <td>True</td>\n",
       "      <td>31971.101507</td>\n",
       "      <td>Biotic-dieback</td>\n",
       "      <td>0.044165</td>\n",
       "      <td>698107.460368</td>\n",
       "    </tr>\n",
       "  </tbody>\n",
       "</table>\n",
       "</div>"
      ],
      "text/plain": [
       "          index_SS  year                                           geometry  \\\n",
       "16740568   5693533  2016  POLYGON ((390182.593 6193984.736, 390186.479 6...   \n",
       "16739138   5692471  2016  POLYGON ((198151.562 6229877.192, 198156.509 6...   \n",
       "16740648   5693546  2016  POLYGON ((356133.519 6288406.696, 356137.658 6...   \n",
       "16772872   5722317  2019  POLYGON ((316738.735 6224764.791, 316747.343 6...   \n",
       "16751272   5702967  2017  POLYGON ((356116.934 6287576.877, 356121.073 6...   \n",
       "16750642   5702611  2017  POLYGON ((294189.871 6167644.943, 294194.251 6...   \n",
       "16740642   5693544  2016  POLYGON ((357593.812 6282929.914, 357548.299 6...   \n",
       "16762141   5712301  2018  POLYGON ((299155.198 6172047.422, 299200.093 6...   \n",
       "16762509   5712548  2018  POLYGON ((369801.390 6267466.855, 369846.825 6...   \n",
       "16740618   5693540  2016  POLYGON ((374522.239 6260692.699, 374526.257 6...   \n",
       "1081815     435827  2017  POLYGON ((291757.711 6180486.908, 291937.458 6...   \n",
       "1349343     670878  2019  POLYGON ((289746.356 6173693.093, 289836.155 6...   \n",
       "14012449   4812670  2020  POLYGON ((321488.403 6187564.806, 321492.653 6...   \n",
       "1477919     791699  2020  POLYGON ((289041.450 6176257.759, 289086.362 6...   \n",
       "16772904   5722325  2019  POLYGON ((314826.035 6245806.439, 314817.374 6...   \n",
       "1354229     674197  2019  POLYGON ((314832.354 6246219.339, 314877.652 6...   \n",
       "1482763     795281  2020  POLYGON ((321492.653 6187519.721, 321582.626 6...   \n",
       "13961372   4764007  2019  POLYGON ((314862.669 6245901.643, 314832.354 6...   \n",
       "13960203   4763241  2019  POLYGON ((289697.048 6173733.556, 289741.948 6...   \n",
       "14010506   4811197  2020  POLYGON ((289045.864 6176212.753, 289041.450 6...   \n",
       "\n",
       "                                   class_SS  index_DFDE start_date_DFDE  \\\n",
       "16740568                              Storm       299.0      2013-01-01   \n",
       "16739138                              Storm       299.0      2013-01-01   \n",
       "16740648                              Storm       304.0      2016-01-01   \n",
       "16772872                              Storm       304.0      2016-01-01   \n",
       "16751272                              Storm       304.0      2016-01-01   \n",
       "16750642                              Storm       304.0      2016-01-01   \n",
       "16740642                              Storm       304.0      2016-01-01   \n",
       "16762141                              Storm       304.0      2016-01-01   \n",
       "16762509                              Storm       304.0      2016-01-01   \n",
       "16740618                              Storm       304.0      2016-01-01   \n",
       "1081815   Other,Drought,Biotic,Tree-logging       306.0      2018-01-01   \n",
       "1349343   Other,Drought,Biotic,Tree-logging       304.0      2016-01-01   \n",
       "14012449  Other,Drought,Biotic,Tree-logging       306.0      2018-01-01   \n",
       "1477919   Other,Drought,Biotic,Tree-logging       306.0      2018-01-01   \n",
       "16772904                              Storm       304.0      2016-01-01   \n",
       "1354229   Other,Drought,Biotic,Tree-logging       304.0      2016-01-01   \n",
       "1482763   Other,Drought,Biotic,Tree-logging       305.0      2017-01-01   \n",
       "13961372  Other,Drought,Biotic,Tree-logging       307.0      2019-01-01   \n",
       "13960203  Other,Drought,Biotic,Tree-logging       307.0      2019-01-01   \n",
       "14010506  Other,Drought,Biotic,Tree-logging       307.0      2019-01-01   \n",
       "\n",
       "         end_date_DFDE           name         class_DFDE  index_FI  \\\n",
       "16740568    2013-12-28  Île-de-France       Storm,Biotic  128241.0   \n",
       "16739138    2013-12-28  Île-de-France       Storm,Biotic   79606.0   \n",
       "16740648    2016-12-28  Île-de-France             Biotic  108400.0   \n",
       "16772872    2016-12-28  Île-de-France             Biotic  144337.0   \n",
       "16751272    2016-12-28  Île-de-France             Biotic  108400.0   \n",
       "16750642    2016-12-28  Île-de-France             Biotic  116026.0   \n",
       "16740642    2016-12-28  Île-de-France             Biotic  108400.0   \n",
       "16762141    2016-12-28  Île-de-France             Biotic  116026.0   \n",
       "16762509    2016-12-28  Île-de-France             Biotic  143305.0   \n",
       "16740618    2016-12-28  Île-de-France             Biotic  143305.0   \n",
       "1081815     2018-12-28  Île-de-France             Biotic  116026.0   \n",
       "1349343     2016-12-28  Île-de-France             Biotic  116026.0   \n",
       "14012449    2018-12-28  Île-de-France             Biotic   92476.0   \n",
       "1477919     2018-12-28  Île-de-France             Biotic  116026.0   \n",
       "16772904    2016-12-28  Île-de-France             Biotic  139166.0   \n",
       "1354229     2016-12-28  Île-de-France             Biotic  139166.0   \n",
       "1482763     2017-12-28  Île-de-France             Biotic   92476.0   \n",
       "13961372    2019-12-28  Île-de-France  Storm,Biotic,Fire  139166.0   \n",
       "13960203    2019-12-28  Île-de-France  Storm,Biotic,Fire  116026.0   \n",
       "14010506    2019-12-28  Île-de-France  Storm,Biotic,Fire  116026.0   \n",
       "\n",
       "                class_FI       start_date_FI end_date_FI  sjoin_distance  \\\n",
       "16740568           Storm 2013-12-27 18:00:00  2018-12-28     4199.462543   \n",
       "16739138           Storm 2013-12-27 18:00:00  2018-12-28     3820.443331   \n",
       "16740648  Biotic-dieback 2016-12-27 18:00:00  2021-12-28     5051.479915   \n",
       "16772872    Tree-logging 2016-12-27 18:00:00  2021-12-28     7986.833857   \n",
       "16751272  Biotic-dieback 2016-12-27 18:00:00  2021-12-28     4866.521376   \n",
       "16750642  Biotic-dieback 2016-12-27 18:00:00  2021-12-28     7358.766042   \n",
       "16740642  Biotic-dieback 2016-12-27 18:00:00  2021-12-28     4757.523361   \n",
       "16762141  Biotic-dieback 2016-12-27 18:00:00  2021-12-28     3727.448634   \n",
       "16762509    Tree-logging 2016-12-27 18:00:00  2021-12-28     2810.739578   \n",
       "16740618    Tree-logging 2016-12-27 18:00:00  2021-12-28     5316.924132   \n",
       "1081815   Biotic-dieback 2016-12-27 18:00:00  2021-12-28     7088.635924   \n",
       "1349343   Biotic-dieback 2016-12-27 18:00:00  2021-12-28     4778.326570   \n",
       "14012449  Biotic-dieback 2014-12-27 18:00:00  2019-12-28      874.065137   \n",
       "1477919   Biotic-dieback 2016-12-27 18:00:00  2021-12-28     6198.864110   \n",
       "16772904           Storm 2015-12-28 18:00:00  2020-12-28     1876.037983   \n",
       "1354229            Storm 2015-12-28 18:00:00  2020-12-28     1876.037983   \n",
       "1482763   Biotic-dieback 2014-12-27 18:00:00  2019-12-28      874.065137   \n",
       "13961372           Storm 2015-12-28 18:00:00  2020-12-28     1876.037983   \n",
       "13960203  Biotic-dieback 2016-12-27 18:00:00  2021-12-28     4778.326570   \n",
       "14010506  Biotic-dieback 2016-12-27 18:00:00  2021-12-28     6198.864110   \n",
       "\n",
       "          overlap_DFDE_FI     area_DFDE           class  probability  \\\n",
       "16740568             True  31971.101507           Storm     0.213838   \n",
       "16739138             True  31971.101507           Storm     0.213838   \n",
       "16740648             True  31971.101507           Storm     0.176440   \n",
       "16772872             True  31971.101507           Storm     0.176440   \n",
       "16751272             True  31971.101507           Storm     0.176440   \n",
       "16750642             True  31971.101507           Storm     0.176440   \n",
       "16740642             True  31971.101507           Storm     0.176440   \n",
       "16762141             True  31971.101507           Storm     0.176440   \n",
       "16762509             True  31971.101507           Storm     0.176440   \n",
       "16740618             True  31971.101507           Storm     0.176440   \n",
       "1081815              True  31971.101507  Biotic-dieback     0.127158   \n",
       "1349343              True  31971.101507  Biotic-dieback     0.118951   \n",
       "14012449             True  31971.101507  Biotic-dieback     0.114033   \n",
       "1477919              True  31971.101507  Biotic-dieback     0.113923   \n",
       "16772904             True  31971.101507           Storm     0.106409   \n",
       "1354229              True  31971.101507  Biotic-dieback     0.101443   \n",
       "1482763              True  31971.101507  Biotic-dieback     0.081197   \n",
       "13961372             True  31971.101507  Biotic-dieback     0.053344   \n",
       "13960203             True  31971.101507  Biotic-dieback     0.045959   \n",
       "14010506             True  31971.101507  Biotic-dieback     0.044165   \n",
       "\n",
       "                   area  \n",
       "16740568   20498.564331  \n",
       "16739138    2067.120126  \n",
       "16740648   10478.589327  \n",
       "16772872  132134.416530  \n",
       "16751272    8381.425424  \n",
       "16750642    2037.281356  \n",
       "16740642   58605.765931  \n",
       "16762141    2039.374487  \n",
       "16762509   10427.195352  \n",
       "16740618   10410.566432  \n",
       "1081815   335105.278656  \n",
       "1349343   938382.133875  \n",
       "14012449  472770.103676  \n",
       "1477919   698107.460368  \n",
       "16772904  321587.759866  \n",
       "1354229   321587.759866  \n",
       "1482763   472770.103676  \n",
       "13961372  321587.759866  \n",
       "13960203  938382.133875  \n",
       "14010506  698107.460368  "
      ]
     },
     "execution_count": 6,
     "metadata": {},
     "output_type": "execute_result"
    }
   ],
   "source": [
    "t_gdf = gdf[ gdf.overlap_DFDE_FI == True ].drop_duplicates(subset=['index_SS', 'year'])\n",
    "t_gdf['area'] = t_gdf.geometry.area\n",
    "t_gdf = t_gdf[(t_gdf.year > 2015)]\n",
    "t_gdf_area = t_gdf.sort_values('area', ascending=False).iloc[:10]\n",
    "t_gdf_prob = t_gdf.sort_values('probability', ascending=False).iloc[:10]\n",
    "t_gdf = gpd.GeoDataFrame(pd.concat([t_gdf_area, t_gdf_prob]), crs=t_gdf.crs)\n",
    "table = t_gdf.sort_values('probability', ascending=False)\n",
    "table"
   ]
  },
  {
   "cell_type": "code",
   "execution_count": 9,
   "metadata": {},
   "outputs": [
    {
     "name": "stdout",
     "output_type": "stream",
     "text": [
      "The autoreload extension is already loaded. To reload it, use:\n",
      "  %reload_ext autoreload\n",
      "['sentinel-2', 'landsat-8']\n"
     ]
    },
    {
     "name": "stderr",
     "output_type": "stream",
     "text": [
      "[Parallel(n_jobs=8)]: Using backend ThreadingBackend with 8 concurrent workers.\n",
      "[Parallel(n_jobs=8)]: Done   2 out of  11 | elapsed:    0.0s remaining:    0.0s\n",
      "[Parallel(n_jobs=8)]: Done   8 out of  11 | elapsed:    0.2s remaining:    0.1s\n",
      "[Parallel(n_jobs=8)]: Done  11 out of  11 | elapsed:    2.3s finished\n"
     ]
    },
    {
     "name": "stdout",
     "output_type": "stream",
     "text": [
      "Items found for research 1 with cc=0 : 11\n"
     ]
    },
    {
     "name": "stderr",
     "output_type": "stream",
     "text": [
      "[Parallel(n_jobs=8)]: Using backend ThreadingBackend with 8 concurrent workers.\n",
      "[Parallel(n_jobs=8)]: Done  25 tasks      | elapsed:    9.1s\n",
      "[Parallel(n_jobs=8)]: Done 146 tasks      | elapsed:   32.2s\n",
      "[Parallel(n_jobs=8)]: Done 359 out of 359 | elapsed:  1.2min finished\n",
      "[Parallel(n_jobs=-1)]: Using backend ThreadingBackend with 8 concurrent workers.\n"
     ]
    },
    {
     "name": "stdout",
     "output_type": "stream",
     "text": [
      "Items found for research 2 with cc=25 (on aoi) : 378\n"
     ]
    },
    {
     "name": "stderr",
     "output_type": "stream",
     "text": [
      "[Parallel(n_jobs=-1)]: Done  25 tasks      | elapsed:    6.9s\n",
      "[Parallel(n_jobs=-1)]: Done 146 tasks      | elapsed:   21.1s\n",
      "[Parallel(n_jobs=-1)]: Done 191 out of 191 | elapsed:   31.9s finished\n"
     ]
    },
    {
     "name": "stdout",
     "output_type": "stream",
     "text": [
      "Items found for combined research:  191\n",
      "upper bound :  170.0\n"
     ]
    },
    {
     "data": {
      "image/png": "[encoded data removed]",
      "text/plain": [
       "<Figure size 1000x1000 with 2 Axes>"
      ]
     },
     "metadata": {},
     "output_type": "display_data"
    },
    {
     "name": "stdout",
     "output_type": "stream",
     "text": [
      "is strongly connected :  False\n",
      "is weakly connected :  True\n",
      "Avg Score: 0.42, Avg Cloud cover: 0.29, Avg Spatial res: 11.00, Avg nodata: 0.00, Avg Weight: 11.29, Std Dev Weight: 21.35\n",
      "Avg Score: 0.42, Avg Cloud cover: 0.29, Avg Spatial res: 11.00, Avg nodata: 0.00, Avg Weight: 11.47, Std Dev Weight: 21.43\n"
     ]
    },
    {
     "data": {
      "image/png": "[encoded data removed]",
      "text/plain": [
       "<Figure size 2000x1000 with 1 Axes>"
      ]
     },
     "metadata": {},
     "output_type": "display_data"
    },
    {
     "name": "stdout",
     "output_type": "stream",
     "text": [
      "target: {'sat': 'sentinel-2', 'band': 'B02', 'res': 10, 'crs': CRS.from_epsg(32631), 'transform': Affine(10.0, 0.0, 489550.0,\n",
      "       0.0, -10.0, 5372050.0), 'shape': (453, 479)}\n",
      "Starting download at:  /Users/arthurcalvi/Data/disturbances-ex/france/disturbance1_test-pipeline\n"
     ]
    },
    {
     "name": "stderr",
     "output_type": "stream",
     "text": [
      "[Parallel(n_jobs=8)]: Using backend ThreadingBackend with 8 concurrent workers.\n",
      "[Parallel(n_jobs=8)]: Done  25 tasks      | elapsed:  1.2min\n"
     ]
    },
    {
     "name": "stdout",
     "output_type": "stream",
     "text": [
      "Starting registration...\n",
      "inputs: /Users/arthurcalvi/Data/disturbances-ex/france/disturbance1_test-pipeline/rgb/2019-09-06_104046_L8_RGB.tif\n",
      "outputs: /Users/arthurcalvi/Data/disturbances-ex/france/disturbance1_test-pipeline/rgb_r/2019-09-06_104046_L8_RGB.tif\n",
      "extra_outputs:\n",
      "/Users/arthurcalvi/Data/disturbances-ex/france/disturbance1_test-pipeline/evi_r/2018-04-06_105029_S2B_EVI.tif\n",
      "/Users/arthurcalvi/Data/disturbances-ex/france/disturbance1_test-pipeline/nbr_r/2019-05-01_105039_S2B_NBR.tif\n",
      "/Users/arthurcalvi/Data/disturbances-ex/france/disturbance1_test-pipeline/crswir_r/2021-04-25_105021_S2A_CRSWIR.tif\n",
      "/Users/arthurcalvi/Data/disturbances-ex/france/disturbance1_test-pipeline/ndvi_r/2019-11-17_105229_S2B_NDVI.tif\n",
      "extra_inputs:\n",
      "/Users/arthurcalvi/Data/disturbances-ex/france/disturbance1_test-pipeline/evi/2018-04-06_105029_S2B_EVI.tif\n",
      "/Users/arthurcalvi/Data/disturbances-ex/france/disturbance1_test-pipeline/nbr/2019-05-01_105039_S2B_NBR.tif\n",
      "/Users/arthurcalvi/Data/disturbances-ex/france/disturbance1_test-pipeline/crswir/2021-04-25_105021_S2A_CRSWIR.tif\n",
      "/Users/arthurcalvi/Data/disturbances-ex/france/disturbance1_test-pipeline/ndvi/2019-11-17_105229_S2B_NDVI.tif\n",
      "reading images... \n"
     ]
    },
    {
     "name": "stderr",
     "output_type": "stream",
     "text": [
      "[Parallel(n_jobs=8)]: Done  59 out of  59 | elapsed:  2.7min finished\n"
     ]
    },
    {
     "data": {
      "application/vnd.jupyter.widget-view+json": {
       "model_id": "970740a311aa47fb9eea3e3ec7494832",
       "version_major": 2,
       "version_minor": 0
      },
      "text/plain": [
       "  0%|          | 0/59 [00:00<?, ?it/s]"
      ]
     },
     "metadata": {},
     "output_type": "display_data"
    },
    {
     "name": "stdout",
     "output_type": "stream",
     "text": [
      "computing FFTs... \n"
     ]
    },
    {
     "data": {
      "application/vnd.jupyter.widget-view+json": {
       "model_id": "97ffe0258b6441c7b9aaea5278931e9b",
       "version_major": 2,
       "version_minor": 0
      },
      "text/plain": [
       "  0%|          | 0/59 [00:00<?, ?it/s]"
      ]
     },
     "metadata": {},
     "output_type": "display_data"
    },
    {
     "name": "stdout",
     "output_type": "stream",
     "text": [
      "computing shifts... \n"
     ]
    },
    {
     "data": {
      "application/vnd.jupyter.widget-view+json": {
       "model_id": "dbbe640c7c9d470b809225570bcc88ec",
       "version_major": 2,
       "version_minor": 0
      },
      "text/plain": [
       "  0%|          | 0/1711 [00:00<?, ?it/s]"
      ]
     },
     "metadata": {},
     "output_type": "display_data"
    },
    {
     "name": "stdout",
     "output_type": "stream",
     "text": [
      "registration accuracy: 0.15 px\n",
      "resampling images... \n"
     ]
    },
    {
     "data": {
      "application/vnd.jupyter.widget-view+json": {
       "model_id": "45690afdec14416697c2fa3d47b18ec4",
       "version_major": 2,
       "version_minor": 0
      },
      "text/plain": [
       "  0%|          | 0/59 [00:00<?, ?it/s]"
      ]
     },
     "metadata": {},
     "output_type": "display_data"
    },
    {
     "name": "stdout",
     "output_type": "stream",
     "text": [
      "reading images... \n"
     ]
    },
    {
     "data": {
      "application/vnd.jupyter.widget-view+json": {
       "model_id": "e7789eb8b3414d2cb8de9f79e4dcf2b1",
       "version_major": 2,
       "version_minor": 0
      },
      "text/plain": [
       "  0%|          | 0/59 [00:00<?, ?it/s]"
      ]
     },
     "metadata": {},
     "output_type": "display_data"
    },
    {
     "name": "stdout",
     "output_type": "stream",
     "text": [
      "resampling images... \n"
     ]
    },
    {
     "data": {
      "application/vnd.jupyter.widget-view+json": {
       "model_id": "7ae8dd7b81924cf984a371e401154169",
       "version_major": 2,
       "version_minor": 0
      },
      "text/plain": [
       "  0%|          | 0/59 [00:00<?, ?it/s]"
      ]
     },
     "metadata": {},
     "output_type": "display_data"
    },
    {
     "name": "stdout",
     "output_type": "stream",
     "text": [
      "reading images... \n"
     ]
    },
    {
     "data": {
      "application/vnd.jupyter.widget-view+json": {
       "model_id": "4fd2bb3742a946829d914207fa4336d5",
       "version_major": 2,
       "version_minor": 0
      },
      "text/plain": [
       "  0%|          | 0/59 [00:00<?, ?it/s]"
      ]
     },
     "metadata": {},
     "output_type": "display_data"
    },
    {
     "name": "stdout",
     "output_type": "stream",
     "text": [
      "resampling images... \n"
     ]
    },
    {
     "data": {
      "application/vnd.jupyter.widget-view+json": {
       "model_id": "a2405f4f7c02421d8037deeff4a4f1d3",
       "version_major": 2,
       "version_minor": 0
      },
      "text/plain": [
       "  0%|          | 0/59 [00:00<?, ?it/s]"
      ]
     },
     "metadata": {},
     "output_type": "display_data"
    },
    {
     "name": "stdout",
     "output_type": "stream",
     "text": [
      "reading images... \n"
     ]
    },
    {
     "data": {
      "application/vnd.jupyter.widget-view+json": {
       "model_id": "e7ffaf417fa447e2a4df84b430e0a1bf",
       "version_major": 2,
       "version_minor": 0
      },
      "text/plain": [
       "  0%|          | 0/59 [00:00<?, ?it/s]"
      ]
     },
     "metadata": {},
     "output_type": "display_data"
    },
    {
     "name": "stdout",
     "output_type": "stream",
     "text": [
      "resampling images... \n"
     ]
    },
    {
     "data": {
      "application/vnd.jupyter.widget-view+json": {
       "model_id": "aca9ff825cf949a8990137af6a1dedf6",
       "version_major": 2,
       "version_minor": 0
      },
      "text/plain": [
       "  0%|          | 0/59 [00:00<?, ?it/s]"
      ]
     },
     "metadata": {},
     "output_type": "display_data"
    },
    {
     "name": "stdout",
     "output_type": "stream",
     "text": [
      "reading images... \n"
     ]
    },
    {
     "data": {
      "application/vnd.jupyter.widget-view+json": {
       "model_id": "29359963658f4c67864c42ecb7c0be94",
       "version_major": 2,
       "version_minor": 0
      },
      "text/plain": [
       "  0%|          | 0/59 [00:00<?, ?it/s]"
      ]
     },
     "metadata": {},
     "output_type": "display_data"
    },
    {
     "name": "stdout",
     "output_type": "stream",
     "text": [
      "resampling images... \n"
     ]
    },
    {
     "data": {
      "application/vnd.jupyter.widget-view+json": {
       "model_id": "999d2beadace4f1382d9131eb679c4b1",
       "version_major": 2,
       "version_minor": 0
      },
      "text/plain": [
       "  0%|          | 0/59 [00:00<?, ?it/s]"
      ]
     },
     "metadata": {},
     "output_type": "display_data"
    },
    {
     "name": "stdout",
     "output_type": "stream",
     "text": [
      "files to remove:  set()\n",
      "files to remove:  set()\n",
      "files to remove:  set()\n",
      "files to remove:  set()\n"
     ]
    }
   ],
   "source": [
    "%load_ext autoreload\n",
    "%autoreload 2\n",
    "from chronos import Chronos\n",
    "\n",
    "from datetime import datetime, timedelta, timezone\n",
    "delta = timedelta(days=3*365)\n",
    "row = table.iloc[12]\n",
    "start_date = datetime(row.year, 1, 1, 10, 10, 10, tzinfo=timezone.utc) - delta\n",
    "end_date = datetime(row.year, 12, 31, 10, 10, 10, tzinfo=timezone.utc) + delta\n",
    "chr = Chronos(delta_min=20, cc1=0, cc2=75, buffer=3000, nodata=10, \n",
    "            alpha = 0.1, show_aoi=False, shadow=True, registration=True,\n",
    "            pansharpening=True, sharpening=True, force_reproject=False, \n",
    "            normalization=None, verbose=2, n_jobs=8, prefer='threads')\n",
    "\n",
    "dir_ = '/Users/arthurcalvi/Data/disturbances-ex/france'\n",
    "name_folder = 'disturbance1_test-pipeline'\n",
    "folder = os.path.join(dir_, name_folder)\n",
    "results = chr.dl_pipeline(row.geometry, start_date, end_date, folder, \\\n",
    "                           indices=['rgb', 'ndvi', 'evi', 'crswir', 'nbr', 'qa', 'cloud_mask'], \\\n",
    "                            remove_old=True, keep_only_common=True)"
   ]
  }
 ],
 "metadata": {
  "kernelspec": {
   "display_name": "Download",
   "language": "python",
   "name": "python3"
  },
  "language_info": {
   "codemirror_mode": {
    "name": "ipython",
    "version": 3
   },
   "file_extension": ".py",
   "mimetype": "text/x-python",
   "name": "python",
   "nbconvert_exporter": "python",
   "pygments_lexer": "ipython3",
   "version": "3.9.6"
  },
  "orig_nbformat": 4
 },
 "nbformat": 4,
 "nbformat_minor": 2
}
